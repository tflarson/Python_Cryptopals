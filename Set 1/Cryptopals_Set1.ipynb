{
 "cells": [
  {
   "cell_type": "markdown",
   "id": "general-subdivision",
   "metadata": {},
   "source": [
    "Problem 1"
   ]
  },
  {
   "cell_type": "code",
   "execution_count": 1,
   "id": "sixth-marshall",
   "metadata": {},
   "outputs": [],
   "source": [
    "import binascii\n",
    "import codecs\n",
    "def hex2bin(x):\n",
    "    k1=bin(int(x,16))\n",
    "    return k1[2:].zfill(len(x)*4)\n",
    "\n",
    "def hex2b64(x):\n",
    "    b64 = codecs.encode(codecs.decode(x, 'hex'), 'base64').decode()\n",
    "    return b64[:-1]"
   ]
  },
  {
   "cell_type": "code",
   "execution_count": 2,
   "id": "temporal-anthropology",
   "metadata": {},
   "outputs": [
    {
     "data": {
      "text/plain": [
       "'SSdtIGtpbGxpbmcgeW91ciBicmFpbiBsaWtlIGEgcG9pc29ub3VzIG11c2hyb29t'"
      ]
     },
     "execution_count": 2,
     "metadata": {},
     "output_type": "execute_result"
    }
   ],
   "source": [
    "k = '49276d206b696c6c696e6720796f757220627261696e206c696b65206120706f69736f6e6f7573206d757368726f6f6d'\n",
    "k1 = hex2b64(k)\n",
    "k1"
   ]
  },
  {
   "cell_type": "markdown",
   "id": "constitutional-counter",
   "metadata": {},
   "source": [
    "Problem 2"
   ]
  },
  {
   "cell_type": "code",
   "execution_count": 3,
   "id": "worthy-static",
   "metadata": {},
   "outputs": [],
   "source": [
    "def fixedxor(x1,x2):\n",
    "    r1 = hex2bin(x1)\n",
    "    r2 = hex2bin(x2)\n",
    "    out = ''\n",
    "    for i in range(len(r1)):\n",
    "        temp  = int((r1[i]!=r2[i]))\n",
    "        out = out+str(temp)\n",
    "    out = hex(int(out,2))\n",
    "    return out[2:]"
   ]
  },
  {
   "cell_type": "code",
   "execution_count": 4,
   "id": "bored-croatia",
   "metadata": {},
   "outputs": [
    {
     "data": {
      "text/plain": [
       "'746865206b696420646f6e277420706c6179'"
      ]
     },
     "execution_count": 4,
     "metadata": {},
     "output_type": "execute_result"
    }
   ],
   "source": [
    "k1 = '1c0111001f010100061a024b53535009181c'\n",
    "k2 = '686974207468652062756c6c277320657965'\n",
    "fixedxor(k1,k2)\n"
   ]
  },
  {
   "cell_type": "markdown",
   "id": "helpful-import",
   "metadata": {},
   "source": [
    "Problem 3"
   ]
  },
  {
   "cell_type": "code",
   "execution_count": 5,
   "id": "acoustic-sleeve",
   "metadata": {},
   "outputs": [
    {
     "data": {
      "text/plain": [
       "\"Cooking MC's like a pound of bacon\""
      ]
     },
     "execution_count": 5,
     "metadata": {},
     "output_type": "execute_result"
    }
   ],
   "source": [
    "str1 = '1b37373331363f78151b7f2b783431333d78397828372d363c78373e783a393b3736'\n",
    "import binascii\n",
    "def sincharstring(x):\n",
    "    sinchar =''\n",
    "    for i in range(int(len(str1)/len(x))):\n",
    "        sinchar = sinchar+x\n",
    "    return sinchar\n",
    "\n",
    "\n",
    "def score(x):\n",
    "    strength = 0\n",
    "    ES = 'etaoin shrdlu'\n",
    "    for i in range(len(x)):\n",
    "        if x[i] in ES:\n",
    "            strength = strength +1\n",
    "    return strength\n",
    "\n",
    "textscore = 0\n",
    "truekey = 0\n",
    "for i in range(256):\n",
    "    key = (hex(i)[2:].zfill(2))\n",
    "    textscore_temp = score(binascii.unhexlify(str(fixedxor(str1,sincharstring(key)).zfill(len(str1))).encode()).decode(errors='ignore'))\n",
    "    if textscore_temp > textscore:\n",
    "        textscore = textscore_temp\n",
    "        truekey = key\n",
    "\n",
    "binascii.unhexlify(str(fixedxor(str1,sincharstring(truekey)).zfill(len(str1))).encode()).decode(errors='ignore')"
   ]
  },
  {
   "cell_type": "markdown",
   "id": "infrared-viking",
   "metadata": {},
   "source": [
    "Problem 4"
   ]
  },
  {
   "cell_type": "code",
   "execution_count": 6,
   "id": "informative-occasions",
   "metadata": {},
   "outputs": [
    {
     "data": {
      "text/plain": [
       "'Now that the party is jumping\\n'"
      ]
     },
     "execution_count": 6,
     "metadata": {},
     "output_type": "execute_result"
    }
   ],
   "source": [
    "f = open('/home/trevynl/Downloads/crypto1_4.txt', 'r')\n",
    "f2 = f.read()\n",
    "f3 =f2.split()\n",
    "\n",
    "textscore = 0\n",
    "truekey = 0\n",
    "true_j = 0\n",
    "for j in range(len(f3)):\n",
    "    str1 = f3[j]\n",
    "    for i in range(256):\n",
    "        key = (hex(i)[2:].zfill(2))\n",
    "        textscore_temp = score(binascii.unhexlify(str(fixedxor(str1,sincharstring(key)).zfill(len(str1))).encode()).decode(errors='ignore'))\n",
    "        if textscore_temp > textscore:\n",
    "            textscore = textscore_temp\n",
    "            truekey = key\n",
    "            true_j = j\n",
    "\n",
    "str1 =  f3[true_j]\n",
    "binascii.unhexlify(str(fixedxor(str1,sincharstring(truekey)).zfill(len(str1))).encode()).decode(errors='ignore')"
   ]
  },
  {
   "cell_type": "markdown",
   "id": "psychological-sentence",
   "metadata": {},
   "source": [
    "Problem 5"
   ]
  },
  {
   "cell_type": "code",
   "execution_count": 7,
   "id": "designing-substance",
   "metadata": {},
   "outputs": [],
   "source": [
    "str_5 = 'Burning \\'em, if you ain\\'t quick and nimble I go crazy when I hear a cymbal'\n",
    "str5_hex = binascii.hexlify(str_5.encode())\n",
    "str5_bin = hex2bin(str5_hex)"
   ]
  },
  {
   "cell_type": "code",
   "execution_count": 8,
   "id": "charged-dating",
   "metadata": {},
   "outputs": [
    {
     "data": {
      "text/plain": [
       "'0b3637272a2b2e63622c2e69692a23693a2a3c6324202d623d63343c2a26226324272765272a282b2f20690a652e2c652a3124333a653e2b2027630c692b20283165286326302e27282f'"
      ]
     },
     "execution_count": 8,
     "metadata": {},
     "output_type": "execute_result"
    }
   ],
   "source": [
    "hex2bin(binascii.hexlify('ICE'.encode()))\n",
    "def sincharstring(x):\n",
    "    sinchar =''\n",
    "    for i in range(len(str5_bin)):\n",
    "        sinchar = sinchar+x[i %len(x)]\n",
    "    return sinchar\n",
    "ICEbin = sincharstring(hex2bin(binascii.hexlify('ICE'.encode())))\n",
    "XORstr  =fixedxor(str5_bin,ICEbin)\n",
    "hex(int(XORstr,2))[2:].zfill(len(str5_hex))"
   ]
  },
  {
   "cell_type": "markdown",
   "id": "bronze-association",
   "metadata": {},
   "source": [
    "Problem 6"
   ]
  },
  {
   "cell_type": "code",
   "execution_count": 64,
   "id": "dimensional-atlanta",
   "metadata": {},
   "outputs": [
    {
     "name": "stdout",
     "output_type": "stream",
     "text": [
      "3.2\n",
      "3.111111111111111\n",
      "3.15\n",
      "2.8266666666666667\n",
      "3.1777777777777776\n",
      "3.276190476190476\n",
      "3.275\n",
      "3.2296296296296294\n",
      "3.246666666666667\n",
      "3.321212121212121\n",
      "3.138888888888889\n",
      "3.1846153846153844\n",
      "3.276190476190476\n",
      "3.2222222222222223\n",
      "3.120833333333333\n",
      "3.23921568627451\n",
      "3.1925925925925926\n",
      "3.231578947368421\n",
      "3.16\n",
      "3.2317460317460314\n",
      "3.312121212121212\n",
      "3.28695652173913\n",
      "3.147222222222222\n",
      "3.3386666666666667\n",
      "3.2564102564102564\n",
      "3.3925925925925924\n",
      "3.219047619047619\n",
      "2.749425287356322\n",
      "3.26\n",
      "3.243010752688172\n",
      "3.252083333333333\n",
      "3.2565656565656567\n",
      "3.1392156862745098\n",
      "3.2876190476190477\n",
      "3.351851851851852\n",
      "3.190990990990991\n",
      "3.2526315789473683\n",
      "3.2735042735042734\n"
     ]
    },
    {
     "data": {
      "text/plain": [
       "\"I'm back and I'm ringin' the bell \\nA rockin' on the mike while the fly girls yell \\nIn ecstasy in the back of me \\nWell that's my DJ Deshay cuttin' all them Z's \\nHittin' hard and the girlies goin' crazy \\nVanilla's on the mike, man I'm not lazy. \\n\\nI'm lettin' my drug kick in \\nIt controls my mouth and I begin \\nTo just let it flow, let my concepts go \\nMy posse's to the side yellin', Go Vanilla Go! \\n\\nSmooth 'cause that's the way I will be \\nAnd if you don't give a damn, then \\nWhy you starin' at me \\nSo get off 'cause I control the stage \\nThere's no dissin' allowed \\nI'm in my own phase \\nThe girlies sa y they love me and that is ok \\nAnd I can dance better than any kid n' play \\n\\nStage 2 -- Yea the one ya' wanna listen to\""
      ]
     },
     "execution_count": 64,
     "metadata": {},
     "output_type": "execute_result"
    }
   ],
   "source": [
    "def HamDis(str1,str2):\n",
    "    str1_hex = binascii.hexlify(str1.encode())\n",
    "    str1_bin = hex2bin(str1_hex)\n",
    "\n",
    "    str2_hex = binascii.hexlify(str2.encode())\n",
    "    str2_bin = hex2bin(str2_hex)\n",
    "\n",
    "    ii = 0\n",
    "    for i in range(len(str1_bin)):\n",
    "        if str1_bin[i] != str2_bin[i]:\n",
    "            ii +=1\n",
    "            \n",
    "    return ii\n",
    "\n",
    "\n",
    "def HamDisBin(str1,str2):\n",
    "    ii = 0\n",
    "    for i in range(len(str1)):\n",
    "        if str1[i] != str2[i]:\n",
    "            ii +=1\n",
    "            \n",
    "    return ii\n",
    "\n",
    "f = open('/home/trevynl/Downloads/crypto1_6.txt', 'r')\n",
    "mas_str = f.read()\n",
    "\n",
    "import binascii\n",
    "import base64\n",
    "base64_message = base64.b64decode(mas_str.replace('\\n',''))\n",
    "mas_str_bin = ''\n",
    "for i in range(len(base64_message)):\n",
    "    mas_str_bin = mas_str_bin + bin(base64_message[i])[2:].zfill(8)\n",
    "\n",
    "for keysize in range(2,40):\n",
    "    str1 = mas_str_bin[0:8*keysize]\n",
    "    str2 = mas_str_bin[8*(keysize):(2*8*keysize)]\n",
    "    str3 = mas_str_bin[8*(2*keysize):(3*8*keysize)]\n",
    "    str4 = mas_str_bin[8*(3*keysize):(4*8*keysize)]\n",
    "    str5 = mas_str_bin[8*(4*keysize):(5*8*keysize)]\n",
    "    str6 = mas_str_bin[8*(5*keysize):(6*8*keysize)]\n",
    "    dis1 = HamDisBin(str1,str2)+HamDisBin(str1,str3)+HamDisBin(str1,str4)+HamDisBin(str1,str5)+HamDisBin(str1,str6)\n",
    "    dis2 = HamDisBin(str2,str3)+HamDisBin(str2,str4)+HamDisBin(str2,str5)+HamDisBin(str2,str6)\n",
    "    dis3 = HamDisBin(str3,str4)+HamDisBin(str3,str5)+HamDisBin(str3,str6)\n",
    "    dis4 = HamDisBin(str4,str5)+HamDisBin(str4,str6)\n",
    "    dis5 = HamDisBin(str5,str6)\n",
    "    avdis = (dis1+dis2+dis3+dis4+dis5)/15/keysize\n",
    "\n",
    "    print(avdis)\n",
    "\n",
    "keysize = 29\n",
    "str_list = []\n",
    "for i in range(keysize):\n",
    "    tempstr = ''\n",
    "    for j in range(int(len(mas_str_bin)/8/keysize)):\n",
    "        tempstr = tempstr + mas_str_bin[8*i+(j)*8*keysize:8*i+(j)*8*keysize+8]\n",
    "    str_list.append(tempstr)\n",
    "    \n",
    "\n",
    "\n",
    "def score(x):\n",
    "    strength = 0\n",
    "    ES = 'etaoin shrdlu'\n",
    "    for i in range(len(x)):\n",
    "        if x[i] in ES:\n",
    "            strength = strength +1\n",
    "    return strength\n",
    "\n",
    "def fixedxor(x1,x2):\n",
    "    r1 = x1\n",
    "    r2 = x2\n",
    "    out = ''\n",
    "    for i in range(len(r1)):\n",
    "        temp  = int((r1[i]!=r2[i]))\n",
    "        out = out+str(temp)\n",
    "    out = hex(int(out,2))\n",
    "    return out[2:]\n",
    "\n",
    "def sincharstring(x):\n",
    "    sinchar =''\n",
    "    for i in range(int(len(str1)/len(x))+1):\n",
    "        sinchar = sinchar+x\n",
    "    return sinchar\n",
    "truestrlist = []\n",
    "for j in range(keysize):\n",
    "    textscore = 0\n",
    "    truekey = 0\n",
    "    str1 = str_list[j]\n",
    "    for i in range(256):\n",
    "        key = (bin(i)[2:].zfill(8))\n",
    "        textscore_temp = score(binascii.unhexlify(str(fixedxor(str1,sincharstring(key)).zfill(int((len(str1)+len(str1)%2)/4))).encode()).decode(errors='ignore'))\n",
    "        if textscore_temp > textscore:\n",
    "            textscore = textscore_temp\n",
    "            truekey = key\n",
    "            truestr = binascii.unhexlify(str(fixedxor(str1,sincharstring(key)).zfill(int((len(str1)+len(str1)%2)/4))).encode()).decode(errors='ignore')\n",
    "    truestrlist.append(truestr)\n",
    "\n",
    "maslist = ''\n",
    "\n",
    "for i in range(int(len(mas_str_bin)/32)):\n",
    "    a = i % keysize \n",
    "    b = int((i-a) / keysize)\n",
    "    maslist = maslist + truestrlist[a][b]\n",
    "maslist"
   ]
  },
  {
   "cell_type": "markdown",
   "id": "7e183530",
   "metadata": {},
   "source": [
    "Problem 7"
   ]
  },
  {
   "cell_type": "code",
   "execution_count": 29,
   "id": "regulation-fancy",
   "metadata": {},
   "outputs": [
    {
     "data": {
      "text/plain": [
       "b\"I'm back and I'm ringin' the bell \\nA rockin' on the mike while the fly girls yell \\nIn ecstasy in the back of me \\nWell that's my DJ Deshay cuttin' all them Z's \\nHittin' hard and the girlies goin' crazy \\nVanilla's on the mike, man I'm not lazy. \\n\\nI'm lettin' my drug kick in \\nIt controls my mouth and I begin \\nTo just let it flow, let my concepts go \\nMy posse's to the side yellin', Go Vanilla Go! \\n\\nSmooth 'cause that's the way I will be \\nAnd if you don't give a damn, then \\nWhy you starin' at me \\nSo get off 'cause I control the stage \\nThere's no dissin' allowed \\nI'm in my own phase \\nThe girlies sa y they love me and that is ok \\nAnd I can dance better than any kid n' play \\n\\nStage 2 -- Yea the one ya' wanna listen to \\nIt's off my head so let the beat play through \\nSo I can funk it up and make it sound good \\n1-2-3 Yo -- Knock on some wood \\nFor good luck, I like my rhymes atrocious \\nSupercalafragilisticexpialidocious \\nI'm an effect and that you can bet \\nI can take a fly girl and make her wet. \\n\\nI'm like Samson -- Samson to Delilah \\nThere's no denyin', You can try to hang \\nBut you'll keep tryin' to get my style \\nOver and over, practice makes perfect \\nBut not if you're a loafer. \\n\\nYou'll get nowhere, no place, no time, no girls \\nSoon -- Oh my God, homebody, you probably eat \\nSpaghetti with a spoon! Come on and say it! \\n\\nVIP. Vanilla Ice yep, yep, I'm comin' hard like a rhino \\nIntoxicating so you stagger like a wino \\nSo punks stop trying and girl stop cryin' \\nVanilla Ice is sellin' and you people are buyin' \\n'Cause why the freaks are jockin' like Crazy Glue \\nMovin' and groovin' trying to sing along \\nAll through the ghetto groovin' this here song \\nNow you're amazed by the VIP posse. \\n\\nSteppin' so hard like a German Nazi \\nStartled by the bases hittin' ground \\nThere's no trippin' on mine, I'm just gettin' down \\nSparkamatic, I'm hangin' tight like a fanatic \\nYou trapped me once and I thought that \\nYou might have it \\nSo step down and lend me your ear \\n'89 in my time! You, '90 is my year. \\n\\nYou're weakenin' fast, YO! and I can tell it \\nYour body's gettin' hot, so, so I can smell it \\nSo don't be mad and don't be sad \\n'Cause the lyrics belong to ICE, You can call me Dad \\nYou're pitchin' a fit, so step back and endure \\nLet the witch doctor, Ice, do the dance to cure \\nSo come up close and don't be square \\nYou wanna battle me -- Anytime, anywhere \\n\\nYou thought that I was weak, Boy, you're dead wrong \\nSo come on, everybody and sing this song \\n\\nSay -- Play that funky music Say, go white boy, go white boy go \\nplay that funky music Go white boy, go white boy, go \\nLay down and boogie and play that funky music till you die. \\n\\nPlay that funky music Come on, Come on, let me hear \\nPlay that funky music white boy you say it, say it \\nPlay that funky music A little louder now \\nPlay that funky music, white boy Come on, Come on, Come on \\nPlay that funky music \\n\\x04\\x04\\x04\\x04\""
      ]
     },
     "execution_count": 29,
     "metadata": {},
     "output_type": "execute_result"
    }
   ],
   "source": [
    "from cryptography.hazmat.primitives.ciphers import Cipher, algorithms, modes\n",
    "from cryptography.hazmat.primitives.ciphers.algorithms import AES\n",
    "import base64\n",
    "key = \"YELLOW SUBMARINE\"\n",
    "a = algorithms.AES(str.encode(key))\n",
    "k = Cipher(a,modes.ECB())\n",
    "decryptor = k.decryptor()\n",
    "\n",
    "f = open('/home/trevynl/Downloads/crypto1_7.txt', 'r')\n",
    "f2 = f.read()\n",
    "f3 =f2.split()\n",
    "\n",
    "base64_message = base64.b64decode(f2.replace('\\n',''))\n",
    "\n",
    "decryptor.update(base64_message)"
   ]
  },
  {
   "cell_type": "markdown",
   "id": "bf97c79f",
   "metadata": {},
   "source": [
    "Problem 8"
   ]
  },
  {
   "cell_type": "code",
   "execution_count": 65,
   "id": "06c462d2",
   "metadata": {},
   "outputs": [
    {
     "data": {
      "text/plain": [
       "132"
      ]
     },
     "execution_count": 65,
     "metadata": {},
     "output_type": "execute_result"
    }
   ],
   "source": [
    "f = open('/home/trevynl/Downloads/crypto1_8.txt', 'r')\n",
    "f2 = f.read()\n",
    "f3 =f2.split()\n",
    "\n",
    "min_length=len(f3[0])\n",
    "unique_blocks = []\n",
    "\n",
    "for i in range(len(f3)):\n",
    "    block_list = []\n",
    "    for j in range(int(len(f3[i])/32)):\n",
    "        block_list.append(f3[i][0+j*32:(j+1)*32])\n",
    "    unique_list = list(set(block_list))\n",
    "    unique_blocks.append(len(unique_list))\n",
    "unique_blocks.index(min(unique_blocks))"
   ]
  },
  {
   "cell_type": "code",
   "execution_count": 59,
   "id": "970ef09b",
   "metadata": {
    "scrolled": true
   },
   "outputs": [
    {
     "data": {
      "text/plain": [
       "[10,\n",
       " 10,\n",
       " 10,\n",
       " 10,\n",
       " 10,\n",
       " 10,\n",
       " 10,\n",
       " 10,\n",
       " 10,\n",
       " 10,\n",
       " 10,\n",
       " 10,\n",
       " 10,\n",
       " 10,\n",
       " 10,\n",
       " 10,\n",
       " 10,\n",
       " 10,\n",
       " 10,\n",
       " 10,\n",
       " 10,\n",
       " 10,\n",
       " 10,\n",
       " 10,\n",
       " 10,\n",
       " 10,\n",
       " 10,\n",
       " 10,\n",
       " 10,\n",
       " 10,\n",
       " 10,\n",
       " 10,\n",
       " 10,\n",
       " 10,\n",
       " 10,\n",
       " 10,\n",
       " 10,\n",
       " 10,\n",
       " 10,\n",
       " 10,\n",
       " 10,\n",
       " 10,\n",
       " 10,\n",
       " 10,\n",
       " 10,\n",
       " 10,\n",
       " 10,\n",
       " 10,\n",
       " 10,\n",
       " 10,\n",
       " 10,\n",
       " 10,\n",
       " 10,\n",
       " 10,\n",
       " 10,\n",
       " 10,\n",
       " 10,\n",
       " 10,\n",
       " 10,\n",
       " 10,\n",
       " 10,\n",
       " 10,\n",
       " 10,\n",
       " 10,\n",
       " 10,\n",
       " 10,\n",
       " 10,\n",
       " 10,\n",
       " 10,\n",
       " 10,\n",
       " 10,\n",
       " 10,\n",
       " 10,\n",
       " 10,\n",
       " 10,\n",
       " 10,\n",
       " 10,\n",
       " 10,\n",
       " 10,\n",
       " 10,\n",
       " 10,\n",
       " 10,\n",
       " 10,\n",
       " 10,\n",
       " 10,\n",
       " 10,\n",
       " 10,\n",
       " 10,\n",
       " 10,\n",
       " 10,\n",
       " 10,\n",
       " 10,\n",
       " 10,\n",
       " 10,\n",
       " 10,\n",
       " 10,\n",
       " 10,\n",
       " 10,\n",
       " 10,\n",
       " 10,\n",
       " 10,\n",
       " 10,\n",
       " 10,\n",
       " 10,\n",
       " 10,\n",
       " 10,\n",
       " 10,\n",
       " 10,\n",
       " 10,\n",
       " 10,\n",
       " 10,\n",
       " 10,\n",
       " 10,\n",
       " 10,\n",
       " 10,\n",
       " 10,\n",
       " 10,\n",
       " 10,\n",
       " 10,\n",
       " 10,\n",
       " 10,\n",
       " 10,\n",
       " 10,\n",
       " 10,\n",
       " 10,\n",
       " 10,\n",
       " 10,\n",
       " 10,\n",
       " 10,\n",
       " 10,\n",
       " 10,\n",
       " 10,\n",
       " 7,\n",
       " 10,\n",
       " 10,\n",
       " 10,\n",
       " 10,\n",
       " 10,\n",
       " 10,\n",
       " 10,\n",
       " 10,\n",
       " 10,\n",
       " 10,\n",
       " 10,\n",
       " 10,\n",
       " 10,\n",
       " 10,\n",
       " 10,\n",
       " 10,\n",
       " 10,\n",
       " 10,\n",
       " 10,\n",
       " 10,\n",
       " 10,\n",
       " 10,\n",
       " 10,\n",
       " 10,\n",
       " 10,\n",
       " 10,\n",
       " 10,\n",
       " 10,\n",
       " 10,\n",
       " 10,\n",
       " 10,\n",
       " 10,\n",
       " 10,\n",
       " 10,\n",
       " 10,\n",
       " 10,\n",
       " 10,\n",
       " 10,\n",
       " 10,\n",
       " 10,\n",
       " 10,\n",
       " 10,\n",
       " 10,\n",
       " 10,\n",
       " 10,\n",
       " 10,\n",
       " 10,\n",
       " 10,\n",
       " 10,\n",
       " 10,\n",
       " 10,\n",
       " 10,\n",
       " 10,\n",
       " 10,\n",
       " 10,\n",
       " 10,\n",
       " 10,\n",
       " 10,\n",
       " 10,\n",
       " 10,\n",
       " 10,\n",
       " 10,\n",
       " 10,\n",
       " 10,\n",
       " 10,\n",
       " 10,\n",
       " 10,\n",
       " 10,\n",
       " 10,\n",
       " 10,\n",
       " 10]"
      ]
     },
     "execution_count": 59,
     "metadata": {},
     "output_type": "execute_result"
    }
   ],
   "source": [
    "unique_blocks"
   ]
  }
 ],
 "metadata": {
  "kernelspec": {
   "display_name": "Python 3 (ipykernel)",
   "language": "python",
   "name": "python3"
  },
  "language_info": {
   "codemirror_mode": {
    "name": "ipython",
    "version": 3
   },
   "file_extension": ".py",
   "mimetype": "text/x-python",
   "name": "python",
   "nbconvert_exporter": "python",
   "pygments_lexer": "ipython3",
   "version": "3.9.9"
  }
 },
 "nbformat": 4,
 "nbformat_minor": 5
}
